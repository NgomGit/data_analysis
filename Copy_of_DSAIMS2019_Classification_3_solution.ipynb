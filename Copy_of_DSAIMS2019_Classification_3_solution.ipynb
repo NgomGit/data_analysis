{
  "nbformat": 4,
  "nbformat_minor": 0,
  "metadata": {
    "colab": {
      "name": "Copy of DSAIMS2019-Classification 3_solution.ipynb",
      "provenance": [],
      "collapsed_sections": [],
      "include_colab_link": true
    },
    "kernelspec": {
      "display_name": "Python 3",
      "language": "python",
      "name": "python3"
    }
  },
  "cells": [
    {
      "cell_type": "markdown",
      "metadata": {
        "id": "view-in-github",
        "colab_type": "text"
      },
      "source": [
        "<a href=\"https://colab.research.google.com/github/NgomGit/data_analysis/blob/master/Copy_of_DSAIMS2019_Classification_3_solution.ipynb\" target=\"_parent\"><img src=\"https://colab.research.google.com/assets/colab-badge.svg\" alt=\"Open In Colab\"/></a>"
      ]
    },
    {
      "cell_type": "markdown",
      "metadata": {
        "id": "Gv_Sg0zgv3nJ",
        "colab_type": "text"
      },
      "source": [
        "## Various Python imports\n",
        "\n",
        "You will be missing some imports such as :`from keras.utils import np_utils` it is up to you to import the correct libraries. Use the class examples to guide you."
      ]
    },
    {
      "cell_type": "code",
      "metadata": {
        "id": "WQJWKhgJ6hHC",
        "colab_type": "code",
        "colab": {}
      },
      "source": [
        ""
      ],
      "execution_count": 0,
      "outputs": []
    },
    {
      "cell_type": "code",
      "metadata": {
        "id": "-T_szC6qhXAX",
        "colab_type": "code",
        "outputId": "bce5ebfd-9dd1-47bd-b6a2-a051fe873eca",
        "colab": {
          "base_uri": "https://localhost:8080/",
          "height": 153
        }
      },
      "source": [
        "import pandas as pd\n",
        "\n",
        "import numpy as np\n",
        "from matplotlib import pyplot as plt \n",
        "\n",
        "from sklearn.model_selection import train_test_split\n",
        "from sklearn.metrics import confusion_matrix, accuracy_score\n",
        "from sklearn.metrics import mean_squared_error, r2_score, mean_absolute_error\n",
        "from sklearn.preprocessing import StandardScaler\n",
        "from keras.models import Sequential\n",
        "from keras.layers import Dense, Dropout\n",
        "\n",
        "from keras.utils import np_utils\n",
        "from sklearn.tree import export_graphviz\n",
        "from sklearn.externals.six import StringIO \n",
        "from IPython.display import Image \n",
        "from pydot import graph_from_dot_data\n",
        "\n",
        "%tensorflow_version 1.x\n",
        "import tensorflow as tf\n",
        "print(tf.__version__)"
      ],
      "execution_count": 0,
      "outputs": [
        {
          "output_type": "stream",
          "text": [
            "Using TensorFlow backend.\n"
          ],
          "name": "stderr"
        },
        {
          "output_type": "display_data",
          "data": {
            "text/html": [
              "<p style=\"color: red;\">\n",
              "The default version of TensorFlow in Colab will soon switch to TensorFlow 2.x.<br>\n",
              "We recommend you <a href=\"https://www.tensorflow.org/guide/migrate\" target=\"_blank\">upgrade</a> now \n",
              "or ensure your notebook will continue to use TensorFlow 1.x via the <code>%tensorflow_version 1.x</code> magic:\n",
              "<a href=\"https://colab.research.google.com/notebooks/tensorflow_version.ipynb\" target=\"_blank\">more info</a>.</p>\n"
            ],
            "text/plain": [
              "<IPython.core.display.HTML object>"
            ]
          },
          "metadata": {
            "tags": []
          }
        },
        {
          "output_type": "stream",
          "text": [
            "1.15.0\n"
          ],
          "name": "stdout"
        },
        {
          "output_type": "stream",
          "text": [
            "/usr/local/lib/python3.6/dist-packages/sklearn/externals/six.py:31: DeprecationWarning: The module is deprecated in version 0.21 and will be removed in version 0.23 since we've dropped support for Python 2.7. Please rely on the official version of six (https://pypi.org/project/six/).\n",
            "  \"(https://pypi.org/project/six/).\", DeprecationWarning)\n"
          ],
          "name": "stderr"
        }
      ]
    },
    {
      "cell_type": "markdown",
      "metadata": {
        "id": "MWmSy7JXv8cS",
        "colab_type": "text"
      },
      "source": [
        "## Load the dataset"
      ]
    },
    {
      "cell_type": "code",
      "metadata": {
        "id": "n8WujhaE4UIZ",
        "colab_type": "code",
        "colab": {}
      },
      "source": [
        "#define our two url \n",
        "target_url = \"https://github.com/NgomGit/group5/raw/master/mortgage-loan-approval/train_labels.csv\"\n",
        "features_url = \"https://github.com/NgomGit/group5/raw/master/mortgage-loan-approval/train_values.csv\" "
      ],
      "execution_count": 0,
      "outputs": []
    },
    {
      "cell_type": "code",
      "metadata": {
        "id": "-f_P0_9Zhcwx",
        "colab_type": "code",
        "colab": {}
      },
      "source": [
        "dataset = pd.read_csv('https://drive.google.com/uc?export=download&id=1qXaIYmJ7kEqzlXER2-2hAfIp6rP6MA5n')"
      ],
      "execution_count": 0,
      "outputs": []
    },
    {
      "cell_type": "markdown",
      "metadata": {
        "id": "_GQ6bniKv9UT",
        "colab_type": "text"
      },
      "source": [
        "## View the top 5 rows"
      ]
    },
    {
      "cell_type": "code",
      "metadata": {
        "id": "PgdUrt0jhjeB",
        "colab_type": "code",
        "outputId": "8a49b00f-e979-41b7-8615-897a3a670a4f",
        "colab": {
          "base_uri": "https://localhost:8080/",
          "height": 313
        }
      },
      "source": [
        "dataset.head()"
      ],
      "execution_count": 0,
      "outputs": [
        {
          "output_type": "execute_result",
          "data": {
            "text/html": [
              "<div>\n",
              "<style scoped>\n",
              "    .dataframe tbody tr th:only-of-type {\n",
              "        vertical-align: middle;\n",
              "    }\n",
              "\n",
              "    .dataframe tbody tr th {\n",
              "        vertical-align: top;\n",
              "    }\n",
              "\n",
              "    .dataframe thead th {\n",
              "        text-align: right;\n",
              "    }\n",
              "</style>\n",
              "<table border=\"1\" class=\"dataframe\">\n",
              "  <thead>\n",
              "    <tr style=\"text-align: right;\">\n",
              "      <th></th>\n",
              "      <th>_STATE</th>\n",
              "      <th>FMONTH</th>\n",
              "      <th>IDATE</th>\n",
              "      <th>IMONTH</th>\n",
              "      <th>IDAY</th>\n",
              "      <th>IYEAR</th>\n",
              "      <th>DISPCODE</th>\n",
              "      <th>SEQNO</th>\n",
              "      <th>_PSU</th>\n",
              "      <th>CTELENUM</th>\n",
              "      <th>PVTRESD1</th>\n",
              "      <th>COLGHOUS</th>\n",
              "      <th>STATERES</th>\n",
              "      <th>CELLFON3</th>\n",
              "      <th>LADULT</th>\n",
              "      <th>NUMADULT</th>\n",
              "      <th>NUMMEN</th>\n",
              "      <th>NUMWOMEN</th>\n",
              "      <th>CTELNUM1</th>\n",
              "      <th>CELLFON2</th>\n",
              "      <th>CADULT</th>\n",
              "      <th>PVTRESD2</th>\n",
              "      <th>CCLGHOUS</th>\n",
              "      <th>CSTATE</th>\n",
              "      <th>LANDLINE</th>\n",
              "      <th>HHADULT</th>\n",
              "      <th>GENHLTH</th>\n",
              "      <th>PHYSHLTH</th>\n",
              "      <th>MENTHLTH</th>\n",
              "      <th>POORHLTH</th>\n",
              "      <th>HLTHPLN1</th>\n",
              "      <th>PERSDOC2</th>\n",
              "      <th>MEDCOST</th>\n",
              "      <th>CHECKUP1</th>\n",
              "      <th>BPHIGH4</th>\n",
              "      <th>BPMEDS</th>\n",
              "      <th>BLOODCHO</th>\n",
              "      <th>CHOLCHK</th>\n",
              "      <th>TOLDHI2</th>\n",
              "      <th>CVDINFR4</th>\n",
              "      <th>...</th>\n",
              "      <th>_VEG23</th>\n",
              "      <th>_FRUITEX</th>\n",
              "      <th>_VEGETEX</th>\n",
              "      <th>_TOTINDA</th>\n",
              "      <th>METVL11_</th>\n",
              "      <th>METVL21_</th>\n",
              "      <th>MAXVO2_</th>\n",
              "      <th>FC60_</th>\n",
              "      <th>ACTIN11_</th>\n",
              "      <th>ACTIN21_</th>\n",
              "      <th>PADUR1_</th>\n",
              "      <th>PADUR2_</th>\n",
              "      <th>PAFREQ1_</th>\n",
              "      <th>PAFREQ2_</th>\n",
              "      <th>_MINAC11</th>\n",
              "      <th>_MINAC21</th>\n",
              "      <th>STRFREQ_</th>\n",
              "      <th>PAMISS1_</th>\n",
              "      <th>PAMIN11_</th>\n",
              "      <th>PAMIN21_</th>\n",
              "      <th>PA1MIN_</th>\n",
              "      <th>PAVIG11_</th>\n",
              "      <th>PAVIG21_</th>\n",
              "      <th>PA1VIGM_</th>\n",
              "      <th>_PACAT1</th>\n",
              "      <th>_PAINDX1</th>\n",
              "      <th>_PA150R2</th>\n",
              "      <th>_PA300R2</th>\n",
              "      <th>_PA30021</th>\n",
              "      <th>_PASTRNG</th>\n",
              "      <th>_PAREC1</th>\n",
              "      <th>_PASTAE1</th>\n",
              "      <th>_LMTACT1</th>\n",
              "      <th>_LMTWRK1</th>\n",
              "      <th>_LMTSCL1</th>\n",
              "      <th>_RFSEAT2</th>\n",
              "      <th>_RFSEAT3</th>\n",
              "      <th>_FLSHOT6</th>\n",
              "      <th>_PNEUMO2</th>\n",
              "      <th>_AIDTST3</th>\n",
              "    </tr>\n",
              "  </thead>\n",
              "  <tbody>\n",
              "    <tr>\n",
              "      <th>0</th>\n",
              "      <td>1.0</td>\n",
              "      <td>1.0</td>\n",
              "      <td>b'01292015'</td>\n",
              "      <td>b'01'</td>\n",
              "      <td>b'29'</td>\n",
              "      <td>b'2015'</td>\n",
              "      <td>1200.0</td>\n",
              "      <td>2.015000e+09</td>\n",
              "      <td>2.015000e+09</td>\n",
              "      <td>1.0</td>\n",
              "      <td>1.0</td>\n",
              "      <td>NaN</td>\n",
              "      <td>1.0</td>\n",
              "      <td>2.0</td>\n",
              "      <td>NaN</td>\n",
              "      <td>3.0</td>\n",
              "      <td>1.000000e+00</td>\n",
              "      <td>2.0</td>\n",
              "      <td>NaN</td>\n",
              "      <td>NaN</td>\n",
              "      <td>NaN</td>\n",
              "      <td>NaN</td>\n",
              "      <td>NaN</td>\n",
              "      <td>NaN</td>\n",
              "      <td>NaN</td>\n",
              "      <td>NaN</td>\n",
              "      <td>5.0</td>\n",
              "      <td>15.0</td>\n",
              "      <td>18.0</td>\n",
              "      <td>10.0</td>\n",
              "      <td>1.0</td>\n",
              "      <td>1.0</td>\n",
              "      <td>2.0</td>\n",
              "      <td>1.0</td>\n",
              "      <td>1.0</td>\n",
              "      <td>1.0</td>\n",
              "      <td>1.0</td>\n",
              "      <td>1.0</td>\n",
              "      <td>1.0</td>\n",
              "      <td>2.0</td>\n",
              "      <td>...</td>\n",
              "      <td>1.0</td>\n",
              "      <td>5.397605e-79</td>\n",
              "      <td>5.397605e-79</td>\n",
              "      <td>2.0</td>\n",
              "      <td>NaN</td>\n",
              "      <td>NaN</td>\n",
              "      <td>2469.0</td>\n",
              "      <td>423.0</td>\n",
              "      <td>NaN</td>\n",
              "      <td>NaN</td>\n",
              "      <td>NaN</td>\n",
              "      <td>NaN</td>\n",
              "      <td>NaN</td>\n",
              "      <td>NaN</td>\n",
              "      <td>NaN</td>\n",
              "      <td>NaN</td>\n",
              "      <td>5.397605e-79</td>\n",
              "      <td>5.397605e-79</td>\n",
              "      <td>NaN</td>\n",
              "      <td>NaN</td>\n",
              "      <td>NaN</td>\n",
              "      <td>NaN</td>\n",
              "      <td>NaN</td>\n",
              "      <td>NaN</td>\n",
              "      <td>4.0</td>\n",
              "      <td>2.0</td>\n",
              "      <td>3.0</td>\n",
              "      <td>3.0</td>\n",
              "      <td>2.0</td>\n",
              "      <td>2.0</td>\n",
              "      <td>4.0</td>\n",
              "      <td>2.0</td>\n",
              "      <td>1.0</td>\n",
              "      <td>1.0</td>\n",
              "      <td>1.0</td>\n",
              "      <td>1.0</td>\n",
              "      <td>1.0</td>\n",
              "      <td>NaN</td>\n",
              "      <td>NaN</td>\n",
              "      <td>1.0</td>\n",
              "    </tr>\n",
              "    <tr>\n",
              "      <th>1</th>\n",
              "      <td>1.0</td>\n",
              "      <td>1.0</td>\n",
              "      <td>b'01202015'</td>\n",
              "      <td>b'01'</td>\n",
              "      <td>b'20'</td>\n",
              "      <td>b'2015'</td>\n",
              "      <td>1100.0</td>\n",
              "      <td>2.015000e+09</td>\n",
              "      <td>2.015000e+09</td>\n",
              "      <td>1.0</td>\n",
              "      <td>1.0</td>\n",
              "      <td>NaN</td>\n",
              "      <td>1.0</td>\n",
              "      <td>2.0</td>\n",
              "      <td>NaN</td>\n",
              "      <td>1.0</td>\n",
              "      <td>5.397605e-79</td>\n",
              "      <td>1.0</td>\n",
              "      <td>NaN</td>\n",
              "      <td>NaN</td>\n",
              "      <td>NaN</td>\n",
              "      <td>NaN</td>\n",
              "      <td>NaN</td>\n",
              "      <td>NaN</td>\n",
              "      <td>NaN</td>\n",
              "      <td>NaN</td>\n",
              "      <td>3.0</td>\n",
              "      <td>88.0</td>\n",
              "      <td>88.0</td>\n",
              "      <td>NaN</td>\n",
              "      <td>2.0</td>\n",
              "      <td>1.0</td>\n",
              "      <td>1.0</td>\n",
              "      <td>4.0</td>\n",
              "      <td>3.0</td>\n",
              "      <td>NaN</td>\n",
              "      <td>1.0</td>\n",
              "      <td>4.0</td>\n",
              "      <td>2.0</td>\n",
              "      <td>2.0</td>\n",
              "      <td>...</td>\n",
              "      <td>1.0</td>\n",
              "      <td>5.397605e-79</td>\n",
              "      <td>5.397605e-79</td>\n",
              "      <td>1.0</td>\n",
              "      <td>35.0</td>\n",
              "      <td>5.397605e-79</td>\n",
              "      <td>2876.0</td>\n",
              "      <td>493.0</td>\n",
              "      <td>1.0</td>\n",
              "      <td>5.397605e-79</td>\n",
              "      <td>60.0</td>\n",
              "      <td>60.0</td>\n",
              "      <td>2800.0</td>\n",
              "      <td>2800.0</td>\n",
              "      <td>168.0</td>\n",
              "      <td>5.397605e-79</td>\n",
              "      <td>5.397605e-79</td>\n",
              "      <td>5.397605e-79</td>\n",
              "      <td>168.0</td>\n",
              "      <td>5.397605e-79</td>\n",
              "      <td>168.0</td>\n",
              "      <td>5.397605e-79</td>\n",
              "      <td>5.397605e-79</td>\n",
              "      <td>5.397605e-79</td>\n",
              "      <td>2.0</td>\n",
              "      <td>1.0</td>\n",
              "      <td>1.0</td>\n",
              "      <td>2.0</td>\n",
              "      <td>2.0</td>\n",
              "      <td>2.0</td>\n",
              "      <td>2.0</td>\n",
              "      <td>2.0</td>\n",
              "      <td>3.0</td>\n",
              "      <td>3.0</td>\n",
              "      <td>4.0</td>\n",
              "      <td>2.0</td>\n",
              "      <td>2.0</td>\n",
              "      <td>NaN</td>\n",
              "      <td>NaN</td>\n",
              "      <td>2.0</td>\n",
              "    </tr>\n",
              "    <tr>\n",
              "      <th>2</th>\n",
              "      <td>1.0</td>\n",
              "      <td>1.0</td>\n",
              "      <td>b'02012015'</td>\n",
              "      <td>b'02'</td>\n",
              "      <td>b'01'</td>\n",
              "      <td>b'2015'</td>\n",
              "      <td>1200.0</td>\n",
              "      <td>2.015000e+09</td>\n",
              "      <td>2.015000e+09</td>\n",
              "      <td>1.0</td>\n",
              "      <td>1.0</td>\n",
              "      <td>NaN</td>\n",
              "      <td>1.0</td>\n",
              "      <td>2.0</td>\n",
              "      <td>NaN</td>\n",
              "      <td>2.0</td>\n",
              "      <td>1.000000e+00</td>\n",
              "      <td>1.0</td>\n",
              "      <td>NaN</td>\n",
              "      <td>NaN</td>\n",
              "      <td>NaN</td>\n",
              "      <td>NaN</td>\n",
              "      <td>NaN</td>\n",
              "      <td>NaN</td>\n",
              "      <td>NaN</td>\n",
              "      <td>NaN</td>\n",
              "      <td>4.0</td>\n",
              "      <td>15.0</td>\n",
              "      <td>88.0</td>\n",
              "      <td>88.0</td>\n",
              "      <td>1.0</td>\n",
              "      <td>2.0</td>\n",
              "      <td>2.0</td>\n",
              "      <td>1.0</td>\n",
              "      <td>3.0</td>\n",
              "      <td>NaN</td>\n",
              "      <td>1.0</td>\n",
              "      <td>1.0</td>\n",
              "      <td>1.0</td>\n",
              "      <td>7.0</td>\n",
              "      <td>...</td>\n",
              "      <td>1.0</td>\n",
              "      <td>1.000000e+00</td>\n",
              "      <td>1.000000e+00</td>\n",
              "      <td>9.0</td>\n",
              "      <td>NaN</td>\n",
              "      <td>NaN</td>\n",
              "      <td>2173.0</td>\n",
              "      <td>373.0</td>\n",
              "      <td>NaN</td>\n",
              "      <td>NaN</td>\n",
              "      <td>NaN</td>\n",
              "      <td>NaN</td>\n",
              "      <td>NaN</td>\n",
              "      <td>NaN</td>\n",
              "      <td>NaN</td>\n",
              "      <td>NaN</td>\n",
              "      <td>NaN</td>\n",
              "      <td>9.000000e+00</td>\n",
              "      <td>NaN</td>\n",
              "      <td>NaN</td>\n",
              "      <td>NaN</td>\n",
              "      <td>NaN</td>\n",
              "      <td>NaN</td>\n",
              "      <td>NaN</td>\n",
              "      <td>9.0</td>\n",
              "      <td>9.0</td>\n",
              "      <td>9.0</td>\n",
              "      <td>9.0</td>\n",
              "      <td>9.0</td>\n",
              "      <td>9.0</td>\n",
              "      <td>9.0</td>\n",
              "      <td>9.0</td>\n",
              "      <td>9.0</td>\n",
              "      <td>9.0</td>\n",
              "      <td>9.0</td>\n",
              "      <td>9.0</td>\n",
              "      <td>9.0</td>\n",
              "      <td>9.0</td>\n",
              "      <td>9.0</td>\n",
              "      <td>NaN</td>\n",
              "    </tr>\n",
              "    <tr>\n",
              "      <th>3</th>\n",
              "      <td>1.0</td>\n",
              "      <td>1.0</td>\n",
              "      <td>b'01142015'</td>\n",
              "      <td>b'01'</td>\n",
              "      <td>b'14'</td>\n",
              "      <td>b'2015'</td>\n",
              "      <td>1100.0</td>\n",
              "      <td>2.015000e+09</td>\n",
              "      <td>2.015000e+09</td>\n",
              "      <td>1.0</td>\n",
              "      <td>1.0</td>\n",
              "      <td>NaN</td>\n",
              "      <td>1.0</td>\n",
              "      <td>2.0</td>\n",
              "      <td>NaN</td>\n",
              "      <td>3.0</td>\n",
              "      <td>1.000000e+00</td>\n",
              "      <td>2.0</td>\n",
              "      <td>NaN</td>\n",
              "      <td>NaN</td>\n",
              "      <td>NaN</td>\n",
              "      <td>NaN</td>\n",
              "      <td>NaN</td>\n",
              "      <td>NaN</td>\n",
              "      <td>NaN</td>\n",
              "      <td>NaN</td>\n",
              "      <td>5.0</td>\n",
              "      <td>30.0</td>\n",
              "      <td>30.0</td>\n",
              "      <td>30.0</td>\n",
              "      <td>1.0</td>\n",
              "      <td>2.0</td>\n",
              "      <td>1.0</td>\n",
              "      <td>1.0</td>\n",
              "      <td>1.0</td>\n",
              "      <td>1.0</td>\n",
              "      <td>1.0</td>\n",
              "      <td>1.0</td>\n",
              "      <td>1.0</td>\n",
              "      <td>2.0</td>\n",
              "      <td>...</td>\n",
              "      <td>1.0</td>\n",
              "      <td>5.397605e-79</td>\n",
              "      <td>5.397605e-79</td>\n",
              "      <td>2.0</td>\n",
              "      <td>NaN</td>\n",
              "      <td>NaN</td>\n",
              "      <td>2469.0</td>\n",
              "      <td>423.0</td>\n",
              "      <td>NaN</td>\n",
              "      <td>NaN</td>\n",
              "      <td>NaN</td>\n",
              "      <td>NaN</td>\n",
              "      <td>NaN</td>\n",
              "      <td>NaN</td>\n",
              "      <td>NaN</td>\n",
              "      <td>NaN</td>\n",
              "      <td>5.397605e-79</td>\n",
              "      <td>5.397605e-79</td>\n",
              "      <td>NaN</td>\n",
              "      <td>NaN</td>\n",
              "      <td>NaN</td>\n",
              "      <td>NaN</td>\n",
              "      <td>NaN</td>\n",
              "      <td>NaN</td>\n",
              "      <td>4.0</td>\n",
              "      <td>2.0</td>\n",
              "      <td>3.0</td>\n",
              "      <td>3.0</td>\n",
              "      <td>2.0</td>\n",
              "      <td>2.0</td>\n",
              "      <td>4.0</td>\n",
              "      <td>2.0</td>\n",
              "      <td>1.0</td>\n",
              "      <td>1.0</td>\n",
              "      <td>1.0</td>\n",
              "      <td>1.0</td>\n",
              "      <td>1.0</td>\n",
              "      <td>NaN</td>\n",
              "      <td>NaN</td>\n",
              "      <td>9.0</td>\n",
              "    </tr>\n",
              "    <tr>\n",
              "      <th>4</th>\n",
              "      <td>1.0</td>\n",
              "      <td>1.0</td>\n",
              "      <td>b'01142015'</td>\n",
              "      <td>b'01'</td>\n",
              "      <td>b'14'</td>\n",
              "      <td>b'2015'</td>\n",
              "      <td>1100.0</td>\n",
              "      <td>2.015000e+09</td>\n",
              "      <td>2.015000e+09</td>\n",
              "      <td>1.0</td>\n",
              "      <td>1.0</td>\n",
              "      <td>NaN</td>\n",
              "      <td>1.0</td>\n",
              "      <td>2.0</td>\n",
              "      <td>NaN</td>\n",
              "      <td>2.0</td>\n",
              "      <td>1.000000e+00</td>\n",
              "      <td>1.0</td>\n",
              "      <td>NaN</td>\n",
              "      <td>NaN</td>\n",
              "      <td>NaN</td>\n",
              "      <td>NaN</td>\n",
              "      <td>NaN</td>\n",
              "      <td>NaN</td>\n",
              "      <td>NaN</td>\n",
              "      <td>NaN</td>\n",
              "      <td>5.0</td>\n",
              "      <td>20.0</td>\n",
              "      <td>88.0</td>\n",
              "      <td>30.0</td>\n",
              "      <td>1.0</td>\n",
              "      <td>1.0</td>\n",
              "      <td>2.0</td>\n",
              "      <td>1.0</td>\n",
              "      <td>3.0</td>\n",
              "      <td>NaN</td>\n",
              "      <td>1.0</td>\n",
              "      <td>1.0</td>\n",
              "      <td>2.0</td>\n",
              "      <td>2.0</td>\n",
              "      <td>...</td>\n",
              "      <td>1.0</td>\n",
              "      <td>1.000000e+00</td>\n",
              "      <td>5.397605e-79</td>\n",
              "      <td>2.0</td>\n",
              "      <td>NaN</td>\n",
              "      <td>NaN</td>\n",
              "      <td>2543.0</td>\n",
              "      <td>436.0</td>\n",
              "      <td>NaN</td>\n",
              "      <td>NaN</td>\n",
              "      <td>NaN</td>\n",
              "      <td>NaN</td>\n",
              "      <td>NaN</td>\n",
              "      <td>NaN</td>\n",
              "      <td>NaN</td>\n",
              "      <td>NaN</td>\n",
              "      <td>5.397605e-79</td>\n",
              "      <td>5.397605e-79</td>\n",
              "      <td>NaN</td>\n",
              "      <td>NaN</td>\n",
              "      <td>NaN</td>\n",
              "      <td>NaN</td>\n",
              "      <td>NaN</td>\n",
              "      <td>NaN</td>\n",
              "      <td>4.0</td>\n",
              "      <td>2.0</td>\n",
              "      <td>3.0</td>\n",
              "      <td>3.0</td>\n",
              "      <td>2.0</td>\n",
              "      <td>2.0</td>\n",
              "      <td>4.0</td>\n",
              "      <td>2.0</td>\n",
              "      <td>1.0</td>\n",
              "      <td>1.0</td>\n",
              "      <td>1.0</td>\n",
              "      <td>1.0</td>\n",
              "      <td>1.0</td>\n",
              "      <td>NaN</td>\n",
              "      <td>NaN</td>\n",
              "      <td>1.0</td>\n",
              "    </tr>\n",
              "  </tbody>\n",
              "</table>\n",
              "<p>5 rows × 330 columns</p>\n",
              "</div>"
            ],
            "text/plain": [
              "   _STATE  FMONTH        IDATE IMONTH  ... _RFSEAT3 _FLSHOT6  _PNEUMO2  _AIDTST3\n",
              "0     1.0     1.0  b'01292015'  b'01'  ...      1.0      NaN       NaN       1.0\n",
              "1     1.0     1.0  b'01202015'  b'01'  ...      2.0      NaN       NaN       2.0\n",
              "2     1.0     1.0  b'02012015'  b'02'  ...      9.0      9.0       9.0       NaN\n",
              "3     1.0     1.0  b'01142015'  b'01'  ...      1.0      NaN       NaN       9.0\n",
              "4     1.0     1.0  b'01142015'  b'01'  ...      1.0      NaN       NaN       1.0\n",
              "\n",
              "[5 rows x 330 columns]"
            ]
          },
          "metadata": {
            "tags": []
          },
          "execution_count": 3
        }
      ]
    },
    {
      "cell_type": "markdown",
      "metadata": {
        "id": "HaRTHjak3UC2",
        "colab_type": "text"
      },
      "source": [
        "## Find the unique classes"
      ]
    },
    {
      "cell_type": "code",
      "metadata": {
        "id": "Vr8ROYHd3GE7",
        "colab_type": "code",
        "outputId": "366c1048-2353-432a-ed52-ceb53cc6be0d",
        "colab": {
          "base_uri": "https://localhost:8080/",
          "height": 34
        }
      },
      "source": [
        "dataset['_RFHLTH'].unique()"
      ],
      "execution_count": 0,
      "outputs": [
        {
          "output_type": "execute_result",
          "data": {
            "text/plain": [
              "array([2., 1., 9.])"
            ]
          },
          "metadata": {
            "tags": []
          },
          "execution_count": 4
        }
      ]
    },
    {
      "cell_type": "markdown",
      "metadata": {
        "id": "X6Hcjm4I2wqa",
        "colab_type": "text"
      },
      "source": [
        "## Task\n",
        "\n",
        "The dataset contains 329 features and 1 target and is the 2015 Behavioral Risk Factor Surveillance System survey.\n",
        "\n",
        "The different classes are as follows: 1,2,9\n",
        "\n",
        "The features represent a number of characteristics about each patient. The classes denote the health condition of a patient (1 = good, 2 = fair/poor health and 9 = Don’t know/ Not Sure Or Refused/Missing).\n",
        "\n",
        "1) How many inputs would a neural network have if we tried to solve this problem?\n",
        "\n",
        "2) How many outputs would the neural network have?\n",
        "\n",
        "3) What is the goal here? What are we trying to achieve with machine learning?"
      ]
    },
    {
      "cell_type": "markdown",
      "metadata": {
        "id": "OpQzwcr4weJX",
        "colab_type": "text"
      },
      "source": [
        "## Preprocessing\n",
        "\n",
        "Here we drop some columns. We also selecting columns containing numerical values. We are also dropping columns that have NaNs."
      ]
    },
    {
      "cell_type": "code",
      "metadata": {
        "id": "pKsaKYiLquND",
        "colab_type": "code",
        "colab": {}
      },
      "source": [
        "dataset.drop(columns = ['POORHLTH', 'PHYSHLTH', 'GENHLTH', 'PAINACT2', \n",
        "                        'QLMENTL2', 'QLSTRES2', 'QLHLTH2', 'HLTHPLN1', 'MENTHLTH','IDATE'], inplace=True)\n",
        "\n",
        "dataset = dataset.select_dtypes('number')\n",
        "dataset = dataset.dropna(axis=1)"
      ],
      "execution_count": 0,
      "outputs": []
    },
    {
      "cell_type": "code",
      "metadata": {
        "id": "kIl8u1Ggm-pF",
        "colab_type": "code",
        "outputId": "85e572db-09f7-4fd0-acae-e230d485209c",
        "colab": {
          "base_uri": "https://localhost:8080/",
          "height": 246
        }
      },
      "source": [
        "dataset.head()"
      ],
      "execution_count": 0,
      "outputs": [
        {
          "output_type": "execute_result",
          "data": {
            "text/html": [
              "<div>\n",
              "<style scoped>\n",
              "    .dataframe tbody tr th:only-of-type {\n",
              "        vertical-align: middle;\n",
              "    }\n",
              "\n",
              "    .dataframe tbody tr th {\n",
              "        vertical-align: top;\n",
              "    }\n",
              "\n",
              "    .dataframe thead th {\n",
              "        text-align: right;\n",
              "    }\n",
              "</style>\n",
              "<table border=\"1\" class=\"dataframe\">\n",
              "  <thead>\n",
              "    <tr style=\"text-align: right;\">\n",
              "      <th></th>\n",
              "      <th>_STATE</th>\n",
              "      <th>FMONTH</th>\n",
              "      <th>DISPCODE</th>\n",
              "      <th>SEQNO</th>\n",
              "      <th>_PSU</th>\n",
              "      <th>PERSDOC2</th>\n",
              "      <th>MEDCOST</th>\n",
              "      <th>CHECKUP1</th>\n",
              "      <th>BPHIGH4</th>\n",
              "      <th>BLOODCHO</th>\n",
              "      <th>CVDINFR4</th>\n",
              "      <th>CVDCRHD4</th>\n",
              "      <th>CVDSTRK3</th>\n",
              "      <th>ASTHMA3</th>\n",
              "      <th>CHCSCNCR</th>\n",
              "      <th>CHCOCNCR</th>\n",
              "      <th>CHCCOPD1</th>\n",
              "      <th>HAVARTH3</th>\n",
              "      <th>ADDEPEV2</th>\n",
              "      <th>CHCKIDNY</th>\n",
              "      <th>SEX</th>\n",
              "      <th>MARITAL</th>\n",
              "      <th>EDUCA</th>\n",
              "      <th>RENTHOM1</th>\n",
              "      <th>VETERAN3</th>\n",
              "      <th>EMPLOY1</th>\n",
              "      <th>CHILDREN</th>\n",
              "      <th>QSTVER</th>\n",
              "      <th>QSTLANG</th>\n",
              "      <th>_STSTR</th>\n",
              "      <th>_STRWT</th>\n",
              "      <th>_RAWRAKE</th>\n",
              "      <th>_WT2RAKE</th>\n",
              "      <th>_DUALUSE</th>\n",
              "      <th>_LLCPWT</th>\n",
              "      <th>_RFHLTH</th>\n",
              "      <th>_HCVU651</th>\n",
              "      <th>_RFHYPE5</th>\n",
              "      <th>_CHOLCHK</th>\n",
              "      <th>_LTASTH1</th>\n",
              "      <th>...</th>\n",
              "      <th>_RACEGR3</th>\n",
              "      <th>_AGEG5YR</th>\n",
              "      <th>_AGE65YR</th>\n",
              "      <th>_AGE80</th>\n",
              "      <th>_AGE_G</th>\n",
              "      <th>_RFBMI5</th>\n",
              "      <th>_CHLDCNT</th>\n",
              "      <th>_EDUCAG</th>\n",
              "      <th>_INCOMG</th>\n",
              "      <th>_SMOKER3</th>\n",
              "      <th>_RFSMOK3</th>\n",
              "      <th>DRNKANY5</th>\n",
              "      <th>DROCDY3_</th>\n",
              "      <th>_RFBING5</th>\n",
              "      <th>_DRNKWEK</th>\n",
              "      <th>_RFDRHV5</th>\n",
              "      <th>_MISFRTN</th>\n",
              "      <th>_MISVEGN</th>\n",
              "      <th>_FRTRESP</th>\n",
              "      <th>_VEGRESP</th>\n",
              "      <th>_FRTLT1</th>\n",
              "      <th>_VEGLT1</th>\n",
              "      <th>_FRT16</th>\n",
              "      <th>_VEG23</th>\n",
              "      <th>_FRUITEX</th>\n",
              "      <th>_VEGETEX</th>\n",
              "      <th>_TOTINDA</th>\n",
              "      <th>MAXVO2_</th>\n",
              "      <th>FC60_</th>\n",
              "      <th>PAMISS1_</th>\n",
              "      <th>_PACAT1</th>\n",
              "      <th>_PAINDX1</th>\n",
              "      <th>_PA150R2</th>\n",
              "      <th>_PA300R2</th>\n",
              "      <th>_PA30021</th>\n",
              "      <th>_PASTRNG</th>\n",
              "      <th>_PAREC1</th>\n",
              "      <th>_PASTAE1</th>\n",
              "      <th>_RFSEAT2</th>\n",
              "      <th>_RFSEAT3</th>\n",
              "    </tr>\n",
              "  </thead>\n",
              "  <tbody>\n",
              "    <tr>\n",
              "      <th>0</th>\n",
              "      <td>1.0</td>\n",
              "      <td>1.0</td>\n",
              "      <td>1200.0</td>\n",
              "      <td>2.015000e+09</td>\n",
              "      <td>2.015000e+09</td>\n",
              "      <td>1.0</td>\n",
              "      <td>2.0</td>\n",
              "      <td>1.0</td>\n",
              "      <td>1.0</td>\n",
              "      <td>1.0</td>\n",
              "      <td>2.0</td>\n",
              "      <td>2.0</td>\n",
              "      <td>2.0</td>\n",
              "      <td>1.0</td>\n",
              "      <td>2.0</td>\n",
              "      <td>2.0</td>\n",
              "      <td>1.0</td>\n",
              "      <td>1.0</td>\n",
              "      <td>1.0</td>\n",
              "      <td>2.0</td>\n",
              "      <td>2.0</td>\n",
              "      <td>1.0</td>\n",
              "      <td>4.0</td>\n",
              "      <td>1.0</td>\n",
              "      <td>2.0</td>\n",
              "      <td>8.0</td>\n",
              "      <td>88.0</td>\n",
              "      <td>10.0</td>\n",
              "      <td>1.0</td>\n",
              "      <td>11011.0</td>\n",
              "      <td>28.78156</td>\n",
              "      <td>3.0</td>\n",
              "      <td>86.344681</td>\n",
              "      <td>1.0</td>\n",
              "      <td>341.384853</td>\n",
              "      <td>2.0</td>\n",
              "      <td>1.0</td>\n",
              "      <td>2.0</td>\n",
              "      <td>1.0</td>\n",
              "      <td>2.0</td>\n",
              "      <td>...</td>\n",
              "      <td>1.0</td>\n",
              "      <td>9.0</td>\n",
              "      <td>1.0</td>\n",
              "      <td>63.0</td>\n",
              "      <td>5.0</td>\n",
              "      <td>2.0</td>\n",
              "      <td>1.0</td>\n",
              "      <td>2.0</td>\n",
              "      <td>2.0</td>\n",
              "      <td>3.0</td>\n",
              "      <td>1.0</td>\n",
              "      <td>2.0</td>\n",
              "      <td>5.397605e-79</td>\n",
              "      <td>1.0</td>\n",
              "      <td>5.397605e-79</td>\n",
              "      <td>1.0</td>\n",
              "      <td>5.397605e-79</td>\n",
              "      <td>5.397605e-79</td>\n",
              "      <td>1.000000e+00</td>\n",
              "      <td>1.000000e+00</td>\n",
              "      <td>2.0</td>\n",
              "      <td>1.0</td>\n",
              "      <td>1.0</td>\n",
              "      <td>1.0</td>\n",
              "      <td>5.397605e-79</td>\n",
              "      <td>5.397605e-79</td>\n",
              "      <td>2.0</td>\n",
              "      <td>2469.0</td>\n",
              "      <td>423.0</td>\n",
              "      <td>5.397605e-79</td>\n",
              "      <td>4.0</td>\n",
              "      <td>2.0</td>\n",
              "      <td>3.0</td>\n",
              "      <td>3.0</td>\n",
              "      <td>2.0</td>\n",
              "      <td>2.0</td>\n",
              "      <td>4.0</td>\n",
              "      <td>2.0</td>\n",
              "      <td>1.0</td>\n",
              "      <td>1.0</td>\n",
              "    </tr>\n",
              "    <tr>\n",
              "      <th>1</th>\n",
              "      <td>1.0</td>\n",
              "      <td>1.0</td>\n",
              "      <td>1100.0</td>\n",
              "      <td>2.015000e+09</td>\n",
              "      <td>2.015000e+09</td>\n",
              "      <td>1.0</td>\n",
              "      <td>1.0</td>\n",
              "      <td>4.0</td>\n",
              "      <td>3.0</td>\n",
              "      <td>1.0</td>\n",
              "      <td>2.0</td>\n",
              "      <td>2.0</td>\n",
              "      <td>2.0</td>\n",
              "      <td>2.0</td>\n",
              "      <td>2.0</td>\n",
              "      <td>2.0</td>\n",
              "      <td>2.0</td>\n",
              "      <td>2.0</td>\n",
              "      <td>2.0</td>\n",
              "      <td>2.0</td>\n",
              "      <td>2.0</td>\n",
              "      <td>2.0</td>\n",
              "      <td>6.0</td>\n",
              "      <td>1.0</td>\n",
              "      <td>2.0</td>\n",
              "      <td>3.0</td>\n",
              "      <td>88.0</td>\n",
              "      <td>10.0</td>\n",
              "      <td>1.0</td>\n",
              "      <td>11011.0</td>\n",
              "      <td>28.78156</td>\n",
              "      <td>1.0</td>\n",
              "      <td>28.781560</td>\n",
              "      <td>9.0</td>\n",
              "      <td>108.060903</td>\n",
              "      <td>1.0</td>\n",
              "      <td>2.0</td>\n",
              "      <td>1.0</td>\n",
              "      <td>2.0</td>\n",
              "      <td>1.0</td>\n",
              "      <td>...</td>\n",
              "      <td>1.0</td>\n",
              "      <td>7.0</td>\n",
              "      <td>1.0</td>\n",
              "      <td>52.0</td>\n",
              "      <td>4.0</td>\n",
              "      <td>2.0</td>\n",
              "      <td>1.0</td>\n",
              "      <td>4.0</td>\n",
              "      <td>1.0</td>\n",
              "      <td>1.0</td>\n",
              "      <td>2.0</td>\n",
              "      <td>2.0</td>\n",
              "      <td>5.397605e-79</td>\n",
              "      <td>1.0</td>\n",
              "      <td>5.397605e-79</td>\n",
              "      <td>1.0</td>\n",
              "      <td>5.397605e-79</td>\n",
              "      <td>5.397605e-79</td>\n",
              "      <td>1.000000e+00</td>\n",
              "      <td>1.000000e+00</td>\n",
              "      <td>2.0</td>\n",
              "      <td>2.0</td>\n",
              "      <td>1.0</td>\n",
              "      <td>1.0</td>\n",
              "      <td>5.397605e-79</td>\n",
              "      <td>5.397605e-79</td>\n",
              "      <td>1.0</td>\n",
              "      <td>2876.0</td>\n",
              "      <td>493.0</td>\n",
              "      <td>5.397605e-79</td>\n",
              "      <td>2.0</td>\n",
              "      <td>1.0</td>\n",
              "      <td>1.0</td>\n",
              "      <td>2.0</td>\n",
              "      <td>2.0</td>\n",
              "      <td>2.0</td>\n",
              "      <td>2.0</td>\n",
              "      <td>2.0</td>\n",
              "      <td>2.0</td>\n",
              "      <td>2.0</td>\n",
              "    </tr>\n",
              "    <tr>\n",
              "      <th>2</th>\n",
              "      <td>1.0</td>\n",
              "      <td>1.0</td>\n",
              "      <td>1200.0</td>\n",
              "      <td>2.015000e+09</td>\n",
              "      <td>2.015000e+09</td>\n",
              "      <td>2.0</td>\n",
              "      <td>2.0</td>\n",
              "      <td>1.0</td>\n",
              "      <td>3.0</td>\n",
              "      <td>1.0</td>\n",
              "      <td>7.0</td>\n",
              "      <td>2.0</td>\n",
              "      <td>1.0</td>\n",
              "      <td>2.0</td>\n",
              "      <td>2.0</td>\n",
              "      <td>1.0</td>\n",
              "      <td>2.0</td>\n",
              "      <td>1.0</td>\n",
              "      <td>2.0</td>\n",
              "      <td>2.0</td>\n",
              "      <td>2.0</td>\n",
              "      <td>2.0</td>\n",
              "      <td>4.0</td>\n",
              "      <td>1.0</td>\n",
              "      <td>2.0</td>\n",
              "      <td>7.0</td>\n",
              "      <td>88.0</td>\n",
              "      <td>10.0</td>\n",
              "      <td>1.0</td>\n",
              "      <td>11011.0</td>\n",
              "      <td>28.78156</td>\n",
              "      <td>2.0</td>\n",
              "      <td>57.563120</td>\n",
              "      <td>1.0</td>\n",
              "      <td>255.264797</td>\n",
              "      <td>2.0</td>\n",
              "      <td>9.0</td>\n",
              "      <td>1.0</td>\n",
              "      <td>1.0</td>\n",
              "      <td>1.0</td>\n",
              "      <td>...</td>\n",
              "      <td>1.0</td>\n",
              "      <td>11.0</td>\n",
              "      <td>2.0</td>\n",
              "      <td>71.0</td>\n",
              "      <td>6.0</td>\n",
              "      <td>1.0</td>\n",
              "      <td>1.0</td>\n",
              "      <td>2.0</td>\n",
              "      <td>9.0</td>\n",
              "      <td>9.0</td>\n",
              "      <td>9.0</td>\n",
              "      <td>9.0</td>\n",
              "      <td>9.000000e+02</td>\n",
              "      <td>9.0</td>\n",
              "      <td>9.990000e+04</td>\n",
              "      <td>9.0</td>\n",
              "      <td>2.000000e+00</td>\n",
              "      <td>4.000000e+00</td>\n",
              "      <td>5.397605e-79</td>\n",
              "      <td>5.397605e-79</td>\n",
              "      <td>9.0</td>\n",
              "      <td>9.0</td>\n",
              "      <td>1.0</td>\n",
              "      <td>1.0</td>\n",
              "      <td>1.000000e+00</td>\n",
              "      <td>1.000000e+00</td>\n",
              "      <td>9.0</td>\n",
              "      <td>2173.0</td>\n",
              "      <td>373.0</td>\n",
              "      <td>9.000000e+00</td>\n",
              "      <td>9.0</td>\n",
              "      <td>9.0</td>\n",
              "      <td>9.0</td>\n",
              "      <td>9.0</td>\n",
              "      <td>9.0</td>\n",
              "      <td>9.0</td>\n",
              "      <td>9.0</td>\n",
              "      <td>9.0</td>\n",
              "      <td>9.0</td>\n",
              "      <td>9.0</td>\n",
              "    </tr>\n",
              "    <tr>\n",
              "      <th>3</th>\n",
              "      <td>1.0</td>\n",
              "      <td>1.0</td>\n",
              "      <td>1100.0</td>\n",
              "      <td>2.015000e+09</td>\n",
              "      <td>2.015000e+09</td>\n",
              "      <td>2.0</td>\n",
              "      <td>1.0</td>\n",
              "      <td>1.0</td>\n",
              "      <td>1.0</td>\n",
              "      <td>1.0</td>\n",
              "      <td>2.0</td>\n",
              "      <td>2.0</td>\n",
              "      <td>2.0</td>\n",
              "      <td>2.0</td>\n",
              "      <td>2.0</td>\n",
              "      <td>1.0</td>\n",
              "      <td>2.0</td>\n",
              "      <td>1.0</td>\n",
              "      <td>1.0</td>\n",
              "      <td>2.0</td>\n",
              "      <td>2.0</td>\n",
              "      <td>1.0</td>\n",
              "      <td>4.0</td>\n",
              "      <td>1.0</td>\n",
              "      <td>2.0</td>\n",
              "      <td>8.0</td>\n",
              "      <td>1.0</td>\n",
              "      <td>10.0</td>\n",
              "      <td>1.0</td>\n",
              "      <td>11011.0</td>\n",
              "      <td>28.78156</td>\n",
              "      <td>3.0</td>\n",
              "      <td>86.344681</td>\n",
              "      <td>1.0</td>\n",
              "      <td>341.384853</td>\n",
              "      <td>2.0</td>\n",
              "      <td>1.0</td>\n",
              "      <td>2.0</td>\n",
              "      <td>1.0</td>\n",
              "      <td>1.0</td>\n",
              "      <td>...</td>\n",
              "      <td>1.0</td>\n",
              "      <td>9.0</td>\n",
              "      <td>1.0</td>\n",
              "      <td>63.0</td>\n",
              "      <td>5.0</td>\n",
              "      <td>2.0</td>\n",
              "      <td>2.0</td>\n",
              "      <td>2.0</td>\n",
              "      <td>5.0</td>\n",
              "      <td>4.0</td>\n",
              "      <td>1.0</td>\n",
              "      <td>2.0</td>\n",
              "      <td>5.397605e-79</td>\n",
              "      <td>1.0</td>\n",
              "      <td>5.397605e-79</td>\n",
              "      <td>1.0</td>\n",
              "      <td>5.397605e-79</td>\n",
              "      <td>5.397605e-79</td>\n",
              "      <td>1.000000e+00</td>\n",
              "      <td>1.000000e+00</td>\n",
              "      <td>1.0</td>\n",
              "      <td>2.0</td>\n",
              "      <td>1.0</td>\n",
              "      <td>1.0</td>\n",
              "      <td>5.397605e-79</td>\n",
              "      <td>5.397605e-79</td>\n",
              "      <td>2.0</td>\n",
              "      <td>2469.0</td>\n",
              "      <td>423.0</td>\n",
              "      <td>5.397605e-79</td>\n",
              "      <td>4.0</td>\n",
              "      <td>2.0</td>\n",
              "      <td>3.0</td>\n",
              "      <td>3.0</td>\n",
              "      <td>2.0</td>\n",
              "      <td>2.0</td>\n",
              "      <td>4.0</td>\n",
              "      <td>2.0</td>\n",
              "      <td>1.0</td>\n",
              "      <td>1.0</td>\n",
              "    </tr>\n",
              "    <tr>\n",
              "      <th>4</th>\n",
              "      <td>1.0</td>\n",
              "      <td>1.0</td>\n",
              "      <td>1100.0</td>\n",
              "      <td>2.015000e+09</td>\n",
              "      <td>2.015000e+09</td>\n",
              "      <td>1.0</td>\n",
              "      <td>2.0</td>\n",
              "      <td>1.0</td>\n",
              "      <td>3.0</td>\n",
              "      <td>1.0</td>\n",
              "      <td>2.0</td>\n",
              "      <td>2.0</td>\n",
              "      <td>2.0</td>\n",
              "      <td>2.0</td>\n",
              "      <td>2.0</td>\n",
              "      <td>2.0</td>\n",
              "      <td>2.0</td>\n",
              "      <td>1.0</td>\n",
              "      <td>2.0</td>\n",
              "      <td>2.0</td>\n",
              "      <td>2.0</td>\n",
              "      <td>1.0</td>\n",
              "      <td>5.0</td>\n",
              "      <td>1.0</td>\n",
              "      <td>2.0</td>\n",
              "      <td>8.0</td>\n",
              "      <td>88.0</td>\n",
              "      <td>10.0</td>\n",
              "      <td>1.0</td>\n",
              "      <td>11011.0</td>\n",
              "      <td>28.78156</td>\n",
              "      <td>2.0</td>\n",
              "      <td>57.563120</td>\n",
              "      <td>9.0</td>\n",
              "      <td>258.682223</td>\n",
              "      <td>2.0</td>\n",
              "      <td>1.0</td>\n",
              "      <td>1.0</td>\n",
              "      <td>1.0</td>\n",
              "      <td>1.0</td>\n",
              "      <td>...</td>\n",
              "      <td>1.0</td>\n",
              "      <td>9.0</td>\n",
              "      <td>1.0</td>\n",
              "      <td>61.0</td>\n",
              "      <td>5.0</td>\n",
              "      <td>1.0</td>\n",
              "      <td>1.0</td>\n",
              "      <td>3.0</td>\n",
              "      <td>9.0</td>\n",
              "      <td>4.0</td>\n",
              "      <td>1.0</td>\n",
              "      <td>2.0</td>\n",
              "      <td>5.397605e-79</td>\n",
              "      <td>1.0</td>\n",
              "      <td>5.397605e-79</td>\n",
              "      <td>1.0</td>\n",
              "      <td>1.000000e+00</td>\n",
              "      <td>5.397605e-79</td>\n",
              "      <td>5.397605e-79</td>\n",
              "      <td>1.000000e+00</td>\n",
              "      <td>9.0</td>\n",
              "      <td>1.0</td>\n",
              "      <td>1.0</td>\n",
              "      <td>1.0</td>\n",
              "      <td>1.000000e+00</td>\n",
              "      <td>5.397605e-79</td>\n",
              "      <td>2.0</td>\n",
              "      <td>2543.0</td>\n",
              "      <td>436.0</td>\n",
              "      <td>5.397605e-79</td>\n",
              "      <td>4.0</td>\n",
              "      <td>2.0</td>\n",
              "      <td>3.0</td>\n",
              "      <td>3.0</td>\n",
              "      <td>2.0</td>\n",
              "      <td>2.0</td>\n",
              "      <td>4.0</td>\n",
              "      <td>2.0</td>\n",
              "      <td>1.0</td>\n",
              "      <td>1.0</td>\n",
              "    </tr>\n",
              "  </tbody>\n",
              "</table>\n",
              "<p>5 rows × 87 columns</p>\n",
              "</div>"
            ],
            "text/plain": [
              "   _STATE  FMONTH  DISPCODE  ...  _PASTAE1  _RFSEAT2  _RFSEAT3\n",
              "0     1.0     1.0    1200.0  ...       2.0       1.0       1.0\n",
              "1     1.0     1.0    1100.0  ...       2.0       2.0       2.0\n",
              "2     1.0     1.0    1200.0  ...       9.0       9.0       9.0\n",
              "3     1.0     1.0    1100.0  ...       2.0       1.0       1.0\n",
              "4     1.0     1.0    1100.0  ...       2.0       1.0       1.0\n",
              "\n",
              "[5 rows x 87 columns]"
            ]
          },
          "metadata": {
            "tags": []
          },
          "execution_count": 6
        }
      ]
    },
    {
      "cell_type": "markdown",
      "metadata": {
        "id": "KFCXeZAiwqrP",
        "colab_type": "text"
      },
      "source": [
        "## Split the data into features and target"
      ]
    },
    {
      "cell_type": "code",
      "metadata": {
        "id": "XT_kTccph7fY",
        "colab_type": "code",
        "colab": {}
      },
      "source": [
        "X= dataset.drop('_RFHLTH', axis = 1)\n",
        "Y = np.array(dataset['_RFHLTH'])"
      ],
      "execution_count": 0,
      "outputs": []
    },
    {
      "cell_type": "markdown",
      "metadata": {
        "id": "UfeDy2AP1p2T",
        "colab_type": "text"
      },
      "source": [
        "## Scaling"
      ]
    },
    {
      "cell_type": "code",
      "metadata": {
        "id": "7a8npr1R1p8q",
        "colab_type": "code",
        "colab": {}
      },
      "source": [
        "scaled_X = StandardScaler().fit_transform(X)"
      ],
      "execution_count": 0,
      "outputs": []
    },
    {
      "cell_type": "markdown",
      "metadata": {
        "id": "aA0nALd84JfQ",
        "colab_type": "text"
      },
      "source": [
        "## Task\n",
        "\n",
        "Solve the problem using a neural network. Perform any additional processing that might be required."
      ]
    },
    {
      "cell_type": "markdown",
      "metadata": {
        "id": "pW5Y9KUWet02",
        "colab_type": "text"
      },
      "source": [
        "## Split the data"
      ]
    },
    {
      "cell_type": "markdown",
      "metadata": {
        "id": "6vtOHe98e-vq",
        "colab_type": "text"
      },
      "source": [
        "## Convert Y values into something suitable\n",
        "\n",
        "Notice that the classes are 1,2 and 9. You won't be able to directly use the to_categorical function. Try for yourself. You'll notice that Keras will try fill in the gaps for the missing values for you.\n",
        "\n",
        "To overcome this you can use:\n",
        "\n",
        "```\n",
        "vocab, inv = np.unique(Y, return_inverse=True)\n",
        "np_utils.to_categorical(inv)\n",
        "```\n",
        "\n",
        "But remember to assign the result back to Y!\n",
        "\n",
        "\n",
        "\n"
      ]
    },
    {
      "cell_type": "code",
      "metadata": {
        "id": "eEhtp7fIe-kQ",
        "colab_type": "code",
        "colab": {}
      },
      "source": [
        "vocab, inv = np.unique(Y, return_inverse=True)\n",
        "Y = np_utils.to_categorical(inv)"
      ],
      "execution_count": 0,
      "outputs": []
    },
    {
      "cell_type": "code",
      "metadata": {
        "id": "w5AUGdr7fCld",
        "colab_type": "code",
        "outputId": "0401d798-d880-44bb-c9b2-3c431d42b78a",
        "colab": {
          "base_uri": "https://localhost:8080/",
          "height": 34
        }
      },
      "source": [
        "vocab"
      ],
      "execution_count": 0,
      "outputs": [
        {
          "output_type": "execute_result",
          "data": {
            "text/plain": [
              "array([1., 2., 9.])"
            ]
          },
          "metadata": {
            "tags": []
          },
          "execution_count": 10
        }
      ]
    },
    {
      "cell_type": "code",
      "metadata": {
        "id": "kWR5N2xieeh9",
        "colab_type": "code",
        "colab": {}
      },
      "source": [
        "X_train, X_test, Y_train, Y_test = train_test_split(scaled_X, Y, test_size=.3)\n",
        "X_train, X_val, Y_train, Y_val = train_test_split(X_train, Y_train, test_size=.3)"
      ],
      "execution_count": 0,
      "outputs": []
    },
    {
      "cell_type": "markdown",
      "metadata": {
        "id": "mnuXc_bkXbVN",
        "colab_type": "text"
      },
      "source": [
        "Always a good idea to check the shapes of the data after doing something with it"
      ]
    },
    {
      "cell_type": "code",
      "metadata": {
        "id": "Fhky4bPEXbfQ",
        "colab_type": "code",
        "outputId": "86340572-aa38-4a1d-fc00-a648d22e3b9c",
        "colab": {
          "base_uri": "https://localhost:8080/",
          "height": 186
        }
      },
      "source": [
        "print (X_train.shape)\n",
        "print (Y_train.shape)"
      ],
      "execution_count": 0,
      "outputs": [
        {
          "output_type": "error",
          "ename": "NameError",
          "evalue": "ignored",
          "traceback": [
            "\u001b[0;31m---------------------------------------------------------------------------\u001b[0m",
            "\u001b[0;31mNameError\u001b[0m                                 Traceback (most recent call last)",
            "\u001b[0;32m<ipython-input-1-3be598caf319>\u001b[0m in \u001b[0;36m<module>\u001b[0;34m()\u001b[0m\n\u001b[0;32m----> 1\u001b[0;31m \u001b[0mprint\u001b[0m \u001b[0;34m(\u001b[0m\u001b[0mX_train\u001b[0m\u001b[0;34m.\u001b[0m\u001b[0mshape\u001b[0m\u001b[0;34m)\u001b[0m\u001b[0;34m\u001b[0m\u001b[0;34m\u001b[0m\u001b[0m\n\u001b[0m\u001b[1;32m      2\u001b[0m \u001b[0mprint\u001b[0m \u001b[0;34m(\u001b[0m\u001b[0mY_train\u001b[0m\u001b[0;34m.\u001b[0m\u001b[0mshape\u001b[0m\u001b[0;34m)\u001b[0m\u001b[0;34m\u001b[0m\u001b[0;34m\u001b[0m\u001b[0m\n",
            "\u001b[0;31mNameError\u001b[0m: name 'X_train' is not defined"
          ]
        }
      ]
    },
    {
      "cell_type": "code",
      "metadata": {
        "id": "270PYoU5XdQ0",
        "colab_type": "code",
        "outputId": "bd932a03-89a8-46a4-a2e5-097b4d923340",
        "colab": {
          "base_uri": "https://localhost:8080/",
          "height": 52
        }
      },
      "source": [
        "print(X_val.shape)\n",
        "print (Y_val.shape)"
      ],
      "execution_count": 0,
      "outputs": [
        {
          "output_type": "stream",
          "text": [
            "(1968, 86)\n",
            "(1968, 3)\n"
          ],
          "name": "stdout"
        }
      ]
    },
    {
      "cell_type": "code",
      "metadata": {
        "id": "w4nvWlYgXfAI",
        "colab_type": "code",
        "outputId": "b855e03c-d23c-40d7-e8e5-e42e56bedaed",
        "colab": {
          "base_uri": "https://localhost:8080/",
          "height": 52
        }
      },
      "source": [
        "print(X_test.shape)\n",
        "print (Y_test.shape)"
      ],
      "execution_count": 0,
      "outputs": [
        {
          "output_type": "stream",
          "text": [
            "(2811, 86)\n",
            "(2811, 3)\n"
          ],
          "name": "stdout"
        }
      ]
    },
    {
      "cell_type": "markdown",
      "metadata": {
        "id": "dYWzT5OEgRoY",
        "colab_type": "text"
      },
      "source": [
        "This is an imbalanced dataset, and we can know this as follows by looking at the number of examples which belong to the various classes. Clearly the class 1 is the majority class. We can compute the ratio of the other classes compared to the majority so that we can assign weights. We assign weights such that when the network gets an example from a minority class right, it will receive a higher weight. The majority class takes on a weight of 1."
      ]
    },
    {
      "cell_type": "code",
      "metadata": {
        "id": "d4CZNQu2e-Kv",
        "colab_type": "code",
        "outputId": "23120a00-5e55-4e2d-c71f-4c85cea138fb",
        "colab": {
          "base_uri": "https://localhost:8080/",
          "height": 34
        }
      },
      "source": [
        "np.sum(np.argmax(Y_train,1)==0)"
      ],
      "execution_count": 0,
      "outputs": [
        {
          "output_type": "execute_result",
          "data": {
            "text/plain": [
              "3482"
            ]
          },
          "metadata": {
            "tags": []
          },
          "execution_count": 15
        }
      ]
    },
    {
      "cell_type": "code",
      "metadata": {
        "id": "Lj4M9xMJes-5",
        "colab_type": "code",
        "outputId": "a6d7ed1e-c8bf-4365-dd73-4ce355ce3a0e",
        "colab": {
          "base_uri": "https://localhost:8080/",
          "height": 34
        }
      },
      "source": [
        "np.sum(np.argmax(Y_train,1)==1)"
      ],
      "execution_count": 0,
      "outputs": [
        {
          "output_type": "execute_result",
          "data": {
            "text/plain": [
              "1082"
            ]
          },
          "metadata": {
            "tags": []
          },
          "execution_count": 16
        }
      ]
    },
    {
      "cell_type": "code",
      "metadata": {
        "id": "MqSdq4hMe84b",
        "colab_type": "code",
        "outputId": "7fffe4ef-ce9d-4e4e-f252-0bdcd7893afe",
        "colab": {
          "base_uri": "https://localhost:8080/",
          "height": 34
        }
      },
      "source": [
        "np.sum(np.argmax(Y_train,1)==2)"
      ],
      "execution_count": 0,
      "outputs": [
        {
          "output_type": "execute_result",
          "data": {
            "text/plain": [
              "25"
            ]
          },
          "metadata": {
            "tags": []
          },
          "execution_count": 17
        }
      ]
    },
    {
      "cell_type": "code",
      "metadata": {
        "id": "7hCUhRYBfhsJ",
        "colab_type": "code",
        "outputId": "708dc6c4-bec8-4e96-a53b-67186699899d",
        "colab": {
          "base_uri": "https://localhost:8080/",
          "height": 52
        }
      },
      "source": [
        "print('Class 2 amount vs majority:', 3482/1082)\n",
        "print('Class 3 amount vs majority:', 3482/25)"
      ],
      "execution_count": 0,
      "outputs": [
        {
          "output_type": "stream",
          "text": [
            "Class 2 amount vs majority: 3.2181146025878005\n",
            "Class 3 amount vs majority: 139.28\n"
          ],
          "name": "stdout"
        }
      ]
    },
    {
      "cell_type": "markdown",
      "metadata": {
        "id": "cuobdtL2fP8y",
        "colab_type": "text"
      },
      "source": [
        "## Create and initialise a model"
      ]
    },
    {
      "cell_type": "code",
      "metadata": {
        "id": "8LTmPvRhfQDV",
        "colab_type": "code",
        "colab": {}
      },
      "source": [
        "def network():\n",
        "  \n",
        "    model = Sequential()\n",
        "    model.add(Dense(86, input_dim=86, activation='relu'))\n",
        "    model.add(Dropout(rate=0.4))\n",
        "    model.add(Dense(16, activation='relu'))\n",
        "    model.add(Dropout(rate=0.4))\n",
        "    model.add(Dense(3, activation='softmax'))\n",
        "    # Compile model\n",
        "    model.compile(loss='categorical_crossentropy', \n",
        "                  optimizer='adam', \n",
        "                  metrics=['accuracy'])\n",
        "    \n",
        "    return model"
      ],
      "execution_count": 0,
      "outputs": []
    },
    {
      "cell_type": "code",
      "metadata": {
        "id": "pGi3fNZ0mMfa",
        "colab_type": "code",
        "colab": {}
      },
      "source": [
        "model = network()"
      ],
      "execution_count": 0,
      "outputs": []
    },
    {
      "cell_type": "markdown",
      "metadata": {
        "id": "GyiaFBhbzI9p",
        "colab_type": "text"
      },
      "source": [
        "## Determine the number of trainable parameters"
      ]
    },
    {
      "cell_type": "code",
      "metadata": {
        "id": "dbOE34EezI9q",
        "colab_type": "code",
        "outputId": "b15cfed7-9850-4f54-b9af-34bd627c611f",
        "colab": {
          "base_uri": "https://localhost:8080/",
          "height": 336
        }
      },
      "source": [
        "model.summary()"
      ],
      "execution_count": 0,
      "outputs": [
        {
          "output_type": "stream",
          "text": [
            "Model: \"sequential_14\"\n",
            "_________________________________________________________________\n",
            "Layer (type)                 Output Shape              Param #   \n",
            "=================================================================\n",
            "dense_35 (Dense)             (None, 86)                7482      \n",
            "_________________________________________________________________\n",
            "dropout_22 (Dropout)         (None, 86)                0         \n",
            "_________________________________________________________________\n",
            "dense_36 (Dense)             (None, 16)                1392      \n",
            "_________________________________________________________________\n",
            "dropout_23 (Dropout)         (None, 16)                0         \n",
            "_________________________________________________________________\n",
            "dense_37 (Dense)             (None, 3)                 51        \n",
            "=================================================================\n",
            "Total params: 8,925\n",
            "Trainable params: 8,925\n",
            "Non-trainable params: 0\n",
            "_________________________________________________________________\n"
          ],
          "name": "stdout"
        }
      ]
    },
    {
      "cell_type": "markdown",
      "metadata": {
        "id": "cH3NdxCifT1t",
        "colab_type": "text"
      },
      "source": [
        "## Train the model\n",
        "\n",
        "Notice here we specify a class weight. The idea is that since the data is imbalanced, we can assign a weight to attach more importance to the minority class data. The majority class keeps a weight of 1.\n",
        "\n",
        "For example, if there are 1000 examples in class 0, and 10 in class 1, then the weight for class 1 would be 100 (10 examles * weight 100 = 1000). The number of examples in the classes multiplied by the corresponding weight should roughly equal to the number of examples in the majority class.\n",
        "\n",
        "The weights were computed above.\n",
        "\n",
        "In this instance we have the following (all these values were obtained above):\n",
        "\n",
        "Number of examples in class 0 (majority class) = 3482\n",
        "\n",
        "3 (weight) * 1082 (training examples in class 1) = 3246 which is close enough to 3482\n",
        "\n",
        "139 (weight) * 25 (training examples in class 2) = 3225 which is close enough to 3482"
      ]
    },
    {
      "cell_type": "code",
      "metadata": {
        "id": "7yrCaHwefT81",
        "colab_type": "code",
        "outputId": "cd325c5d-b799-49f8-c924-54e420b8c13c",
        "colab": {
          "base_uri": "https://localhost:8080/",
          "height": 1000
        }
      },
      "source": [
        "history = model.fit(X_train, Y_train, validation_data = (X_val, Y_val), \n",
        "                    epochs=30, \n",
        "                    batch_size=8, \n",
        "                    verbose=1, \n",
        "                    class_weight={0: 1, 1: 3, 2: 139})"
      ],
      "execution_count": 0,
      "outputs": [
        {
          "output_type": "stream",
          "text": [
            "Train on 4589 samples, validate on 1968 samples\n",
            "Epoch 1/30\n",
            "4589/4589 [==============================] - 3s 596us/step - loss: 4.5594 - acc: 0.5524 - val_loss: 0.7579 - val_acc: 0.6977\n",
            "Epoch 2/30\n",
            "4589/4589 [==============================] - 1s 236us/step - loss: 3.1035 - acc: 0.5485 - val_loss: 0.8665 - val_acc: 0.6108\n",
            "Epoch 3/30\n",
            "4589/4589 [==============================] - 1s 237us/step - loss: 2.6599 - acc: 0.5202 - val_loss: 0.8738 - val_acc: 0.5965\n",
            "Epoch 4/30\n",
            "4589/4589 [==============================] - 1s 239us/step - loss: 2.3214 - acc: 0.5557 - val_loss: 0.8110 - val_acc: 0.6341\n",
            "Epoch 5/30\n",
            "4589/4589 [==============================] - 1s 238us/step - loss: 2.4403 - acc: 0.5443 - val_loss: 0.8345 - val_acc: 0.5823\n",
            "Epoch 6/30\n",
            "4589/4589 [==============================] - 1s 231us/step - loss: 2.0063 - acc: 0.5842 - val_loss: 0.8365 - val_acc: 0.5879\n",
            "Epoch 7/30\n",
            "4589/4589 [==============================] - 1s 261us/step - loss: 1.9727 - acc: 0.5942 - val_loss: 0.8223 - val_acc: 0.6245\n",
            "Epoch 8/30\n",
            "4589/4589 [==============================] - 1s 248us/step - loss: 1.9024 - acc: 0.5847 - val_loss: 0.7997 - val_acc: 0.6153\n",
            "Epoch 9/30\n",
            "4589/4589 [==============================] - 1s 240us/step - loss: 2.3635 - acc: 0.5936 - val_loss: 0.7650 - val_acc: 0.6301\n",
            "Epoch 10/30\n",
            "4589/4589 [==============================] - 1s 238us/step - loss: 1.8131 - acc: 0.6041 - val_loss: 0.7582 - val_acc: 0.6397\n",
            "Epoch 11/30\n",
            "4589/4589 [==============================] - 1s 242us/step - loss: 1.6800 - acc: 0.6217 - val_loss: 0.7192 - val_acc: 0.6524\n",
            "Epoch 12/30\n",
            "4589/4589 [==============================] - 1s 254us/step - loss: 1.8591 - acc: 0.6376 - val_loss: 0.7078 - val_acc: 0.6809\n",
            "Epoch 13/30\n",
            "4589/4589 [==============================] - 1s 255us/step - loss: 1.7887 - acc: 0.6309 - val_loss: 0.7167 - val_acc: 0.6778\n",
            "Epoch 14/30\n",
            "4589/4589 [==============================] - 1s 244us/step - loss: 1.5799 - acc: 0.6455 - val_loss: 0.7161 - val_acc: 0.6829\n",
            "Epoch 15/30\n",
            "4589/4589 [==============================] - 1s 242us/step - loss: 1.4294 - acc: 0.6714 - val_loss: 0.6221 - val_acc: 0.7348\n",
            "Epoch 16/30\n",
            "4589/4589 [==============================] - 1s 242us/step - loss: 1.7538 - acc: 0.6710 - val_loss: 0.6784 - val_acc: 0.7027\n",
            "Epoch 17/30\n",
            "4589/4589 [==============================] - 1s 270us/step - loss: 1.5392 - acc: 0.6542 - val_loss: 0.6595 - val_acc: 0.7241\n",
            "Epoch 18/30\n",
            "4589/4589 [==============================] - 1s 253us/step - loss: 1.5786 - acc: 0.6699 - val_loss: 0.7101 - val_acc: 0.6961\n",
            "Epoch 19/30\n",
            "4589/4589 [==============================] - 1s 258us/step - loss: 1.4958 - acc: 0.6649 - val_loss: 0.6329 - val_acc: 0.7144\n",
            "Epoch 20/30\n",
            "4589/4589 [==============================] - 1s 257us/step - loss: 1.3805 - acc: 0.6792 - val_loss: 0.6368 - val_acc: 0.7088\n",
            "Epoch 21/30\n",
            "4589/4589 [==============================] - 1s 256us/step - loss: 1.5180 - acc: 0.6744 - val_loss: 0.6681 - val_acc: 0.6956\n",
            "Epoch 22/30\n",
            "4589/4589 [==============================] - 1s 269us/step - loss: 1.5118 - acc: 0.6710 - val_loss: 0.6414 - val_acc: 0.6956\n",
            "Epoch 23/30\n",
            "4589/4589 [==============================] - 1s 282us/step - loss: 1.3213 - acc: 0.6795 - val_loss: 0.8164 - val_acc: 0.6926\n",
            "Epoch 24/30\n",
            "4589/4589 [==============================] - 1s 275us/step - loss: 1.6889 - acc: 0.6923 - val_loss: 0.6985 - val_acc: 0.7190\n",
            "Epoch 25/30\n",
            "4589/4589 [==============================] - 1s 289us/step - loss: 1.2461 - acc: 0.6823 - val_loss: 0.6474 - val_acc: 0.7297\n",
            "Epoch 26/30\n",
            "4589/4589 [==============================] - 1s 239us/step - loss: 1.2044 - acc: 0.6882 - val_loss: 0.6254 - val_acc: 0.7312\n",
            "Epoch 27/30\n",
            "4589/4589 [==============================] - 1s 255us/step - loss: 1.4591 - acc: 0.7008 - val_loss: 0.6590 - val_acc: 0.7200\n",
            "Epoch 28/30\n",
            "4589/4589 [==============================] - 1s 251us/step - loss: 1.1207 - acc: 0.7110 - val_loss: 0.5922 - val_acc: 0.7485\n",
            "Epoch 29/30\n",
            "4589/4589 [==============================] - 1s 240us/step - loss: 1.0050 - acc: 0.7119 - val_loss: 0.6499 - val_acc: 0.6966\n",
            "Epoch 30/30\n",
            "4589/4589 [==============================] - 1s 245us/step - loss: 1.1561 - acc: 0.7141 - val_loss: 0.5849 - val_acc: 0.7520\n"
          ],
          "name": "stdout"
        }
      ]
    },
    {
      "cell_type": "markdown",
      "metadata": {
        "id": "sJJbCzFxEDLx",
        "colab_type": "text"
      },
      "source": [
        "## Predict classes on validation data"
      ]
    },
    {
      "cell_type": "code",
      "metadata": {
        "id": "KFp91RkdEDSX",
        "colab_type": "code",
        "outputId": "4d35fb92-06f0-44f9-9b77-f4b295665a99",
        "colab": {
          "base_uri": "https://localhost:8080/",
          "height": 168
        }
      },
      "source": [
        "prediction_classes_val = model.predict_classes(X_val)"
      ],
      "execution_count": 0,
      "outputs": [
        {
          "output_type": "error",
          "ename": "NameError",
          "evalue": "ignored",
          "traceback": [
            "\u001b[0;31m---------------------------------------------------------------------------\u001b[0m",
            "\u001b[0;31mNameError\u001b[0m                                 Traceback (most recent call last)",
            "\u001b[0;32m<ipython-input-2-24450d941675>\u001b[0m in \u001b[0;36m<module>\u001b[0;34m()\u001b[0m\n\u001b[0;32m----> 1\u001b[0;31m \u001b[0mprediction_classes_val\u001b[0m \u001b[0;34m=\u001b[0m \u001b[0mmodel\u001b[0m\u001b[0;34m.\u001b[0m\u001b[0mpredict_classes\u001b[0m\u001b[0;34m(\u001b[0m\u001b[0mX_val\u001b[0m\u001b[0;34m)\u001b[0m\u001b[0;34m\u001b[0m\u001b[0;34m\u001b[0m\u001b[0m\n\u001b[0m",
            "\u001b[0;31mNameError\u001b[0m: name 'model' is not defined"
          ]
        }
      ]
    },
    {
      "cell_type": "code",
      "metadata": {
        "id": "M2nkre_t4xn7",
        "colab_type": "code",
        "outputId": "a29e39cb-534a-489e-c310-43adfd5bc2b2",
        "colab": {
          "base_uri": "https://localhost:8080/",
          "height": 34
        }
      },
      "source": [
        "prediction_classes_val[0:10]"
      ],
      "execution_count": 0,
      "outputs": [
        {
          "output_type": "execute_result",
          "data": {
            "text/plain": [
              "array([0, 1, 1, 0, 1, 0, 0, 0, 0, 0])"
            ]
          },
          "metadata": {
            "tags": []
          },
          "execution_count": 103
        }
      ]
    },
    {
      "cell_type": "code",
      "metadata": {
        "id": "dINBe4ytmkeS",
        "colab_type": "code",
        "outputId": "3a1d34b9-84d6-4513-d6a0-dab7742baed4",
        "colab": {
          "base_uri": "https://localhost:8080/",
          "height": 194
        }
      },
      "source": [
        "Y_val[0:10]"
      ],
      "execution_count": 0,
      "outputs": [
        {
          "output_type": "execute_result",
          "data": {
            "text/plain": [
              "array([[1., 0., 0.],\n",
              "       [0., 1., 0.],\n",
              "       [0., 1., 0.],\n",
              "       [1., 0., 0.],\n",
              "       [0., 1., 0.],\n",
              "       [1., 0., 0.],\n",
              "       [1., 0., 0.],\n",
              "       [1., 0., 0.],\n",
              "       [1., 0., 0.],\n",
              "       [1., 0., 0.]], dtype=float32)"
            ]
          },
          "metadata": {
            "tags": []
          },
          "execution_count": 104
        }
      ]
    },
    {
      "cell_type": "code",
      "metadata": {
        "id": "2tMcjfPNmrM1",
        "colab_type": "code",
        "outputId": "6f49678e-552d-46ae-da2f-a33865955566",
        "colab": {
          "base_uri": "https://localhost:8080/",
          "height": 70
        }
      },
      "source": [
        "confusion_matrix(np.argmax(Y_val,1), prediction_classes_val)"
      ],
      "execution_count": 0,
      "outputs": [
        {
          "output_type": "execute_result",
          "data": {
            "text/plain": [
              "array([[1147,  299,   27],\n",
              "       [ 141,  332,   18],\n",
              "       [   1,    2,    1]])"
            ]
          },
          "metadata": {
            "tags": []
          },
          "execution_count": 105
        }
      ]
    },
    {
      "cell_type": "markdown",
      "metadata": {
        "id": "sU15JWlOfl7w",
        "colab_type": "text"
      },
      "source": [
        "## Plot the training error"
      ]
    },
    {
      "cell_type": "code",
      "metadata": {
        "id": "mnq0p4NEzI-G",
        "colab_type": "code",
        "colab": {}
      },
      "source": [
        "def plot_hist(h, xsize=6, ysize=10):\n",
        "\n",
        "    fig_size = plt.rcParams[\"figure.figsize\"]\n",
        "    plt.rcParams[\"figure.figsize\"] = [xsize, ysize]\n",
        "    fig, axes = plt.subplots(nrows=1, ncols=1, sharex=True)\n",
        "    \n",
        "    # summarize history for Accuracy\n",
        "    plt.subplot(211)\n",
        "    plt.plot(h['acc'])\n",
        "    plt.plot(h['val_acc'])\n",
        "    plt.title('Training Performance')\n",
        "    plt.ylabel('Accuracy')\n",
        "    plt.xlabel('Epochs')\n",
        "    plt.legend(['Train', 'Validation'], loc='best')\n",
        "    \n",
        "    plt.draw()\n",
        "    plt.show()\n",
        "\n",
        "    return"
      ],
      "execution_count": 0,
      "outputs": []
    },
    {
      "cell_type": "code",
      "metadata": {
        "id": "H9vb9q-PzI-L",
        "colab_type": "code",
        "outputId": "d47b26c8-68e9-4944-ab10-16a88cab65ed",
        "colab": {
          "base_uri": "https://localhost:8080/",
          "height": 374
        }
      },
      "source": [
        "plot_hist(history.history, xsize=8, ysize=12)"
      ],
      "execution_count": 0,
      "outputs": [
        {
          "output_type": "display_data",
          "data": {
            "image/png": "[encoded data removed]",
            "text/plain": [
              "<Figure size 576x864 with 1 Axes>"
            ]
          },
          "metadata": {
            "tags": []
          }
        }
      ]
    },
    {
      "cell_type": "markdown",
      "metadata": {
        "id": "H0GU6sB6fWtm",
        "colab_type": "text"
      },
      "source": [
        "## Evaluate the model\n",
        "\n",
        "On data that was not used during training"
      ]
    },
    {
      "cell_type": "code",
      "metadata": {
        "id": "jFp7T_xoHyAv",
        "colab_type": "code",
        "colab": {}
      },
      "source": [
        "prediction_classes_test = model.predict_classes(X_test)"
      ],
      "execution_count": 0,
      "outputs": []
    },
    {
      "cell_type": "code",
      "metadata": {
        "id": "OBBSkFSNHsNl",
        "colab_type": "code",
        "outputId": "8022f078-26fc-4a19-b400-a90fcc48dc98",
        "colab": {
          "base_uri": "https://localhost:8080/",
          "height": 70
        }
      },
      "source": [
        "confusion_matrix(np.argmax(Y_test,1), prediction_classes_test)"
      ],
      "execution_count": 0,
      "outputs": [
        {
          "output_type": "execute_result",
          "data": {
            "text/plain": [
              "array([[1642,  422,   37],\n",
              "       [ 199,  460,   39],\n",
              "       [   3,    8,    1]])"
            ]
          },
          "metadata": {
            "tags": []
          },
          "execution_count": 107
        }
      ]
    }
  ]
}